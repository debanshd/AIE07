{
  "cells": [
    {
      "cell_type": "markdown",
      "metadata": {
        "id": "e-IqJAMkwnCF"
      },
      "source": [
        "# Advanced Retrieval with LangChain\n",
        "\n",
        "In the following notebook, we'll explore various methods of advanced retrieval using LangChain!\n",
        "\n",
        "We'll touch on:\n",
        "\n",
        "- Naive Retrieval\n",
        "- Best-Matching 25 (BM25)\n",
        "- Multi-Query Retrieval\n",
        "- Parent-Document Retrieval\n",
        "- Contextual Compression (a.k.a. Rerank)\n",
        "- Ensemble Retrieval\n",
        "- Semantic chunking\n",
        "\n",
        "We'll also discuss how these methods impact performance on our set of documents with a simple RAG chain.\n",
        "\n",
        "There will be two breakout rooms:\n",
        "\n",
        "- 🤝 Breakout Room Part #1\n",
        "  - Task 1: Getting Dependencies!\n",
        "  - Task 2: Data Collection and Preparation\n",
        "  - Task 3: Setting Up QDrant!\n",
        "  - Task 4-10: Retrieval Strategies\n",
        "- 🤝 Breakout Room Part #2\n",
        "  - Activity: Evaluate with Ragas"
      ]
    },
    {
      "cell_type": "markdown",
      "metadata": {
        "id": "4rKP3hgHivpe"
      },
      "source": [
        "# 🤝 Breakout Room Part #1"
      ]
    },
    {
      "cell_type": "markdown",
      "metadata": {
        "id": "3xes8oT-xHN7"
      },
      "source": [
        "## Task 1: Getting Dependencies!\n",
        "\n",
        "We're going to need a few specific LangChain community packages, like OpenAI (for our [LLM](https://platform.openai.com/docs/models) and [Embedding Model](https://platform.openai.com/docs/guides/embeddings)) and Cohere (for our [Reranker](https://cohere.com/rerank))."
      ]
    },
    {
      "cell_type": "markdown",
      "metadata": {
        "id": "Z7OHJXzfyJyA"
      },
      "source": [
        "We'll also provide our OpenAI key, as well as our Cohere API key."
      ]
    },
    {
      "cell_type": "code",
      "execution_count": 1,
      "metadata": {
        "colab": {
          "base_uri": "https://localhost:8080/"
        },
        "id": "7LttlDQUYgSI",
        "outputId": "9dca95ab-4d02-4adf-ec3f-cb831326dc54"
      },
      "outputs": [],
      "source": [
        "import os\n",
        "import getpass\n",
        "\n",
        "os.environ[\"OPENAI_API_KEY\"] = getpass.getpass(\"Enter your OpenAI API Key:\")"
      ]
    },
    {
      "cell_type": "code",
      "execution_count": 2,
      "metadata": {
        "colab": {
          "base_uri": "https://localhost:8080/"
        },
        "id": "3iUahNiJyQbv",
        "outputId": "78bf06ef-2ee8-46c3-f73d-27958b4dd79b"
      },
      "outputs": [],
      "source": [
        "os.environ[\"COHERE_API_KEY\"] = getpass.getpass(\"Cohere API Key:\")"
      ]
    },
    {
      "cell_type": "markdown",
      "metadata": {
        "id": "mw304iAFyRtl"
      },
      "source": [
        "## Task 2: Data Collection and Preparation\n",
        "\n",
        "We'll be using our Loan Data once again - this time the strutured data available through the CSV!"
      ]
    },
    {
      "cell_type": "markdown",
      "metadata": {
        "id": "A92NC2QZzCsi"
      },
      "source": [
        "### Data Preparation\n",
        "\n",
        "We want to make sure all our documents have the relevant metadata for the various retrieval strategies we're going to be applying today."
      ]
    },
    {
      "cell_type": "code",
      "execution_count": 3,
      "metadata": {
        "id": "GshBjVRJZ6p8"
      },
      "outputs": [],
      "source": [
        "from langchain_community.document_loaders.csv_loader import CSVLoader\n",
        "from datetime import datetime, timedelta\n",
        "\n",
        "loader = CSVLoader(\n",
        "    file_path=f\"./data/complaints.csv\",\n",
        "    metadata_columns=[\n",
        "      \"Date received\", \n",
        "      \"Product\", \n",
        "      \"Sub-product\", \n",
        "      \"Issue\", \n",
        "      \"Sub-issue\", \n",
        "      \"Consumer complaint narrative\", \n",
        "      \"Company public response\", \n",
        "      \"Company\", \n",
        "      \"State\", \n",
        "      \"ZIP code\", \n",
        "      \"Tags\", \n",
        "      \"Consumer consent provided?\", \n",
        "      \"Submitted via\", \n",
        "      \"Date sent to company\", \n",
        "      \"Company response to consumer\", \n",
        "      \"Timely response?\", \n",
        "      \"Consumer disputed?\", \n",
        "      \"Complaint ID\"\n",
        "    ]\n",
        ")\n",
        "\n",
        "loan_complaint_data = loader.load()\n",
        "\n",
        "for doc in loan_complaint_data:\n",
        "    doc.page_content = doc.metadata[\"Consumer complaint narrative\"]"
      ]
    },
    {
      "cell_type": "markdown",
      "metadata": {
        "id": "9gQphb6y0C0S"
      },
      "source": [
        "Let's look at an example document to see if everything worked as expected!"
      ]
    },
    {
      "cell_type": "code",
      "execution_count": 4,
      "metadata": {
        "colab": {
          "base_uri": "https://localhost:8080/"
        },
        "id": "PkUkCf7DaMiq",
        "outputId": "e90bd5da-1d87-423b-838a-cb6efc16b199"
      },
      "outputs": [
        {
          "data": {
            "text/plain": [
              "Document(metadata={'source': './data/complaints.csv', 'row': 0, 'Date received': '03/27/25', 'Product': 'Student loan', 'Sub-product': 'Federal student loan servicing', 'Issue': 'Dealing with your lender or servicer', 'Sub-issue': 'Trouble with how payments are being handled', 'Consumer complaint narrative': \"The federal student loan COVID-19 forbearance program ended in XX/XX/XXXX. However, payments were not re-amortized on my federal student loans currently serviced by Nelnet until very recently. The new payment amount that is effective starting with the XX/XX/XXXX payment will nearly double my payment from {$180.00} per month to {$360.00} per month. I'm fortunate that my current financial position allows me to be able to handle the increased payment amount, but I am sure there are likely many borrowers who are not in the same position. The re-amortization should have occurred once the forbearance ended to reduce the impact to borrowers.\", 'Company public response': 'None', 'Company': 'Nelnet, Inc.', 'State': 'IL', 'ZIP code': '60030', 'Tags': 'None', 'Consumer consent provided?': 'Consent provided', 'Submitted via': 'Web', 'Date sent to company': '03/27/25', 'Company response to consumer': 'Closed with explanation', 'Timely response?': 'Yes', 'Consumer disputed?': 'N/A', 'Complaint ID': '12686613'}, page_content=\"The federal student loan COVID-19 forbearance program ended in XX/XX/XXXX. However, payments were not re-amortized on my federal student loans currently serviced by Nelnet until very recently. The new payment amount that is effective starting with the XX/XX/XXXX payment will nearly double my payment from {$180.00} per month to {$360.00} per month. I'm fortunate that my current financial position allows me to be able to handle the increased payment amount, but I am sure there are likely many borrowers who are not in the same position. The re-amortization should have occurred once the forbearance ended to reduce the impact to borrowers.\")"
            ]
          },
          "execution_count": 4,
          "metadata": {},
          "output_type": "execute_result"
        }
      ],
      "source": [
        "loan_complaint_data[0]"
      ]
    },
    {
      "cell_type": "markdown",
      "metadata": {
        "id": "lWaQpdHl0Gzc"
      },
      "source": [
        "## Task 3: Setting up QDrant!\n",
        "\n",
        "Now that we have our documents, let's create a QDrant VectorStore with the collection name \"LoanComplaints\".\n",
        "\n",
        "We'll leverage OpenAI's [`text-embedding-3-small`](https://openai.com/blog/new-embedding-models-and-api-updates) because it's a very powerful (and low-cost) embedding model.\n",
        "\n",
        "> NOTE: We'll be creating additional vectorstores where necessary, but this pattern is still extremely useful."
      ]
    },
    {
      "cell_type": "code",
      "execution_count": 5,
      "metadata": {
        "id": "NT8ihRJbYmMT"
      },
      "outputs": [],
      "source": [
        "from langchain_community.vectorstores import Qdrant\n",
        "from langchain_openai import OpenAIEmbeddings\n",
        "\n",
        "embeddings = OpenAIEmbeddings(model=\"text-embedding-3-small\")\n",
        "\n",
        "vectorstore = Qdrant.from_documents(\n",
        "    loan_complaint_data,\n",
        "    embeddings,\n",
        "    location=\":memory:\",\n",
        "    collection_name=\"LoanComplaints\"\n",
        ")"
      ]
    },
    {
      "cell_type": "markdown",
      "metadata": {
        "id": "-x2SS4Rh0hiN"
      },
      "source": [
        "## Task 4: Naive RAG Chain\n",
        "\n",
        "Since we're focusing on the \"R\" in RAG today - we'll create our Retriever first."
      ]
    },
    {
      "cell_type": "markdown",
      "metadata": {
        "id": "NEH7X5Ai08FH"
      },
      "source": [
        "### R - Retrieval\n",
        "\n",
        "This naive retriever will simply look at each review as a document, and use cosine-similarity to fetch the 10 most relevant documents.\n",
        "\n",
        "> NOTE: We're choosing `10` as our `k` here to provide enough documents for our reranking process later"
      ]
    },
    {
      "cell_type": "code",
      "execution_count": 6,
      "metadata": {
        "id": "GFDPrNBtb72o"
      },
      "outputs": [],
      "source": [
        "naive_retriever = vectorstore.as_retriever(search_kwargs={\"k\" : 10})"
      ]
    },
    {
      "cell_type": "markdown",
      "metadata": {
        "id": "MbBhyQjz06dx"
      },
      "source": [
        "### A - Augmented\n",
        "\n",
        "We're going to go with a standard prompt for our simple RAG chain today! Nothing fancy here, we want this to mostly be about the Retrieval process."
      ]
    },
    {
      "cell_type": "code",
      "execution_count": 7,
      "metadata": {
        "id": "7uSz-Dbqcoki"
      },
      "outputs": [],
      "source": [
        "from langchain_core.prompts import ChatPromptTemplate\n",
        "\n",
        "RAG_TEMPLATE = \"\"\"\\\n",
        "You are a helpful and kind assistant. Use the context provided below to answer the question.\n",
        "\n",
        "If you do not know the answer, or are unsure, say you don't know.\n",
        "\n",
        "Query:\n",
        "{question}\n",
        "\n",
        "Context:\n",
        "{context}\n",
        "\"\"\"\n",
        "\n",
        "rag_prompt = ChatPromptTemplate.from_template(RAG_TEMPLATE)"
      ]
    },
    {
      "cell_type": "markdown",
      "metadata": {
        "id": "BlRzpb231GGJ"
      },
      "source": [
        "### G - Generation\n",
        "\n",
        "We're going to leverage `gpt-4.1-nano` as our LLM today, as - again - we want this to largely be about the Retrieval process."
      ]
    },
    {
      "cell_type": "code",
      "execution_count": 8,
      "metadata": {
        "id": "c-1t9H60dJLg"
      },
      "outputs": [],
      "source": [
        "from langchain_openai import ChatOpenAI\n",
        "\n",
        "chat_model = ChatOpenAI(model=\"gpt-4.1-nano\")"
      ]
    },
    {
      "cell_type": "markdown",
      "metadata": {
        "id": "mg3QRGzA1M2x"
      },
      "source": [
        "### LCEL RAG Chain\n",
        "\n",
        "We're going to use LCEL to construct our chain.\n",
        "\n",
        "> NOTE: This chain will be exactly the same across the various examples with the exception of our Retriever!"
      ]
    },
    {
      "cell_type": "code",
      "execution_count": 9,
      "metadata": {
        "id": "0bvstS7mdOW3"
      },
      "outputs": [],
      "source": [
        "from langchain_core.runnables import RunnablePassthrough\n",
        "from operator import itemgetter\n",
        "from langchain_core.output_parsers import StrOutputParser\n",
        "\n",
        "naive_retrieval_chain = (\n",
        "    # INVOKE CHAIN WITH: {\"question\" : \"<<SOME USER QUESTION>>\"}\n",
        "    # \"question\" : populated by getting the value of the \"question\" key\n",
        "    # \"context\"  : populated by getting the value of the \"question\" key and chaining it into the base_retriever\n",
        "    {\"context\": itemgetter(\"question\") | naive_retriever, \"question\": itemgetter(\"question\")}\n",
        "    # \"context\"  : is assigned to a RunnablePassthrough object (will not be called or considered in the next step)\n",
        "    #              by getting the value of the \"context\" key from the previous step\n",
        "    | RunnablePassthrough.assign(context=itemgetter(\"context\"))\n",
        "    # \"response\" : the \"context\" and \"question\" values are used to format our prompt object and then piped\n",
        "    #              into the LLM and stored in a key called \"response\"\n",
        "    # \"context\"  : populated by getting the value of the \"context\" key from the previous step\n",
        "    | {\"response\": rag_prompt | chat_model, \"context\": itemgetter(\"context\")}\n",
        ")"
      ]
    },
    {
      "cell_type": "markdown",
      "metadata": {
        "id": "izKujhNb1ZG8"
      },
      "source": [
        "Let's see how this simple chain does on a few different prompts.\n",
        "\n",
        "> NOTE: You might think that we've cherry picked prompts that showcase the individual skill of each of the retrieval strategies - you'd be correct!"
      ]
    },
    {
      "cell_type": "code",
      "execution_count": 10,
      "metadata": {
        "colab": {
          "base_uri": "https://localhost:8080/",
          "height": 36
        },
        "id": "LI-5ueEddku9",
        "outputId": "7f3cec18-5f4e-41bb-cf71-51ba0be5388e"
      },
      "outputs": [
        {
          "data": {
            "text/plain": [
              "'Based on the provided complaints, one of the most common issues with loans, specifically student loans in this context, appears to be related to mismanagement and errors in handling the loans. This includes problems such as:\\n\\n- Errors in loan balances and incorrect reporting.\\n- Unjustified increases in interest rates and balances.\\n- Unauthorized or unknown transfers of loans without notification.\\n- Bad or misleading information about loan repayment and status.\\n- Issues with payments being misapplied or blocked from applying towards principal.\\n- Discrepancies and confusion caused by multiple loan servicers and lack of transparency.\\n- Problems with loan forgiveness, discharge, or long-term forbearance that lead to continued debt growth.\\n\\nOverall, mismanagement, inaccurate information, lack of transparency, and servicing errors seem to be the most common and recurring problems documented in these complaints.'"
            ]
          },
          "execution_count": 10,
          "metadata": {},
          "output_type": "execute_result"
        }
      ],
      "source": [
        "naive_retrieval_chain.invoke({\"question\" : \"What is the most common issue with loans?\"})[\"response\"].content"
      ]
    },
    {
      "cell_type": "code",
      "execution_count": 11,
      "metadata": {
        "colab": {
          "base_uri": "https://localhost:8080/",
          "height": 36
        },
        "id": "43zdcdUydtXh",
        "outputId": "db874e67-f568-4ed1-b863-b7c17b387052"
      },
      "outputs": [
        {
          "data": {
            "text/plain": [
              "'Based on the provided information, yes, some complaints did not get handled in a timely manner. Specifically, there are multiple complaints where the response status indicates they were closed with explanation, and the designated response time was marked as \"No\" (not timely). For example, the complaint from 03/28/25 submitted to MOHELA was marked as \"Timely response?\": No, suggesting it was not handled within the expected time frame. \\n\\nAdditionally, some complaints reflect ongoing issues and delays in resolution, such as the complaint about an unprocessed loan application that has been pending for over a year, and other complaints involving delays in responses or unresolved issues over extended periods.\\n\\nTherefore, the answer is: Yes, there were complaints that were not handled in a timely manner.'"
            ]
          },
          "execution_count": 11,
          "metadata": {},
          "output_type": "execute_result"
        }
      ],
      "source": [
        "naive_retrieval_chain.invoke({\"question\" : \"Did any complaints not get handled in a timely manner?\"})[\"response\"].content"
      ]
    },
    {
      "cell_type": "code",
      "execution_count": 12,
      "metadata": {
        "colab": {
          "base_uri": "https://localhost:8080/",
          "height": 70
        },
        "id": "lpG6rlvvvKFq",
        "outputId": "a1b330b0-628e-41be-d829-9c1d55e781f5"
      },
      "outputs": [
        {
          "data": {
            "text/plain": [
              "'Based on the provided information, people failed to pay back their loans primarily because of several interconnected issues:\\n\\n1. **Accumulation of Interest During Forbearance or Deferment:** Many borrowers were offered options like forbearance or deferment, but interest continued to accrue during these periods, increasing the total amount owed and making repayment more difficult once payments resumed.\\n\\n2. **Lack of Clear Communication and Notification:** Several complaints highlight that borrowers were not adequately informed about when their repayment obligations would restart or about transfers between loan servicers. This lack of communication led to unexpected delinquencies and damage to credit scores.\\n\\n3. **Inability to Afford Payments:** Borrowers often found increasing their monthly payments to be unaffordable due to the expense of daily necessities, stagnant wages, or financial hardships, which extended the repayment period and increased total debt.\\n\\n4. **Mismanagement and Poor Service by Loan Servicers:** There are reports of mismanagement, such as loans being transferred without notice, inability to properly apply payments, or misrepresentations about repayment status, all contributing to borrowers’ difficulties.\\n\\n5. **Problems with Payment Processing:** Some borrowers experienced their payments being applied in a manner that prioritized interest over principal, thus preventing them from reducing their debts effectively.\\n\\n6. **Lack of Support and Flexibility:** Difficulties in accessing income-driven repayment plans or re-evaluating repayment options, along with experiences of being reported as delinquent without proper notification, further impeded timely repayment.\\n\\nIn essence, a combination of financial hardship, poor communication, loan management issues, and the burdens of accruing interest led many people to struggle with or fail to pay back their student loans.'"
            ]
          },
          "execution_count": 12,
          "metadata": {},
          "output_type": "execute_result"
        }
      ],
      "source": [
        "naive_retrieval_chain.invoke({\"question\" : \"Why did people fail to pay back their loans?\"})[\"response\"].content"
      ]
    },
    {
      "cell_type": "markdown",
      "metadata": {
        "id": "jsbfQmbr1leg"
      },
      "source": [
        "Overall, this is not bad! Let's see if we can make it better!"
      ]
    },
    {
      "cell_type": "markdown",
      "metadata": {
        "id": "Ft1vt8HPR16w"
      },
      "source": [
        "## Task 5: Best-Matching 25 (BM25) Retriever\n",
        "\n",
        "Taking a step back in time - [BM25](https://www.nowpublishers.com/article/Details/INR-019) is based on [Bag-Of-Words](https://en.wikipedia.org/wiki/Bag-of-words_model) which is a sparse representation of text.\n",
        "\n",
        "In essence, it's a way to compare how similar two pieces of text are based on the words they both contain.\n",
        "\n",
        "This retriever is very straightforward to set-up! Let's see it happen down below!\n"
      ]
    },
    {
      "cell_type": "code",
      "execution_count": 13,
      "metadata": {
        "id": "qdF4wuj5R-cG"
      },
      "outputs": [],
      "source": [
        "from langchain_community.retrievers import BM25Retriever\n",
        "\n",
        "bm25_retriever = BM25Retriever.from_documents(loan_complaint_data, )"
      ]
    },
    {
      "cell_type": "markdown",
      "metadata": {
        "id": "KIjJlBQ8drKH"
      },
      "source": [
        "We'll construct the same chain - only changing the retriever."
      ]
    },
    {
      "cell_type": "code",
      "execution_count": 14,
      "metadata": {
        "id": "WR15EQG7SLuw"
      },
      "outputs": [],
      "source": [
        "bm25_retrieval_chain = (\n",
        "    {\"context\": itemgetter(\"question\") | bm25_retriever, \"question\": itemgetter(\"question\")}\n",
        "    | RunnablePassthrough.assign(context=itemgetter(\"context\"))\n",
        "    | {\"response\": rag_prompt | chat_model, \"context\": itemgetter(\"context\")}\n",
        ")"
      ]
    },
    {
      "cell_type": "markdown",
      "metadata": {
        "id": "0Gi-yXCDdvJk"
      },
      "source": [
        "Let's look at the responses!"
      ]
    },
    {
      "cell_type": "code",
      "execution_count": 15,
      "metadata": {
        "colab": {
          "base_uri": "https://localhost:8080/",
          "height": 53
        },
        "id": "oY9qzmm3SOrF",
        "outputId": "4d4f450f-5978-460f-f242-b32407868353"
      },
      "outputs": [
        {
          "data": {
            "text/plain": [
              "'Based on the provided context, the most common issue with loans appears to be problems related to dealing with lenders or servicers. Multiple complaints mention difficulties in obtaining accurate information, issues with payment application, and disputes over loan details, indicating that many borrowers face challenges in effectively managing their loan accounts and getting clear, truthful responses from their loan servicers.'"
            ]
          },
          "execution_count": 15,
          "metadata": {},
          "output_type": "execute_result"
        }
      ],
      "source": [
        "bm25_retrieval_chain.invoke({\"question\" : \"What is the most common issue with loans?\"})[\"response\"].content"
      ]
    },
    {
      "cell_type": "code",
      "execution_count": 16,
      "metadata": {
        "colab": {
          "base_uri": "https://localhost:8080/",
          "height": 36
        },
        "id": "igfinyneSQkh",
        "outputId": "9752d4a9-dd16-45b1-f63f-a76e93a05eb3"
      },
      "outputs": [
        {
          "data": {
            "text/plain": [
              "'Based on the provided information, all the complaints reviewed indicate that the companies responded in a timely manner. The responses to complaints from EdFinancial Services and Maximus Federal Services were both marked as \"Timely response? : Yes.\" Therefore, there is no evidence in the provided data to suggest that any complaints were not handled in a timely manner.'"
            ]
          },
          "execution_count": 16,
          "metadata": {},
          "output_type": "execute_result"
        }
      ],
      "source": [
        "bm25_retrieval_chain.invoke({\"question\" : \"Did any complaints not get handled in a timely manner?\"})[\"response\"].content"
      ]
    },
    {
      "cell_type": "code",
      "execution_count": 17,
      "metadata": {
        "colab": {
          "base_uri": "https://localhost:8080/",
          "height": 53
        },
        "id": "w0H7pV_USSMQ",
        "outputId": "bdead654-3109-4143-9a30-e1d6ca8dc534"
      },
      "outputs": [
        {
          "data": {
            "text/plain": [
              "\"People fail to pay back their loans for various reasons, including issues with their payment plans, miscommunication or lack of communication from the loan servicers, errors or mismanagement by the servicers, and inability to get approved for deferments or forbearances. For example, some borrowers experience trouble with their payment plans or have their payments reversed due to errors, while others are not properly informed about changes or issues with their accounts, leading to missed payments or increased debt. Additionally, some borrowers report that servicers do not respond to their requests for deferment or forbearance, causing them to continue receiving bills despite their financial hardship. Overall, systemic issues such as poor communication, administrative errors, and problematic handling of payment plans contribute to borrowers' failure to repay their loans.\""
            ]
          },
          "execution_count": 17,
          "metadata": {},
          "output_type": "execute_result"
        }
      ],
      "source": [
        "bm25_retrieval_chain.invoke({\"question\" : \"Why did people fail to pay back their loans?\"})[\"response\"].content"
      ]
    },
    {
      "cell_type": "markdown",
      "metadata": {
        "id": "zvg5xHaUdxCl"
      },
      "source": [
        "It's not clear that this is better or worse, if only we had a way to test this (SPOILERS: We do, the second half of the notebook will cover this)"
      ]
    },
    {
      "cell_type": "markdown",
      "metadata": {},
      "source": [
        "#### ❓ Question #1:\n",
        "\n",
        "Give an example query where BM25 is better than embeddings and justify your answer.\n",
        "\n",
        "##### ✅ Answer:\n",
        "\n",
        "Here's an example query where BM25 would likely perform better than embeddings:\n",
        "\n",
        "## Example Query:\n",
        "**\"What are the specific fees charged by Nelnet for late payments?\"**\n",
        "\n",
        "## Why BM25 would be better:\n",
        "\n",
        "### 1. **Exact Keyword Matching**\n",
        "- BM25 excels at finding documents containing specific terms like \"Nelnet\", \"fees\", \"late payments\"\n",
        "- It would prioritize documents that contain these exact words, even if they're not semantically similar\n",
        "- Embeddings might miss documents that use different phrasing (e.g., \"penalties\" instead of \"fees\")\n",
        "\n",
        "### 2. **Company/Entity Names**\n",
        "- \"Nelnet\" is a specific company name that BM25 would treat as a high-value term\n",
        "- Embeddings might group it with other loan servicers, diluting the relevance\n",
        "- BM25's bag-of-words approach gives equal weight to proper nouns\n",
        "\n",
        "### 3. **Technical/Specific Terminology**\n",
        "- Terms like \"late payments\", \"fees\", \"charges\" are specific financial terms\n",
        "- BM25 would find documents containing these exact phrases\n",
        "- Embeddings might retrieve documents about general payment issues instead\n",
        "\n",
        "### 4. **Sparse Information Retrieval**\n",
        "- When looking for specific factual information (like fee amounts), BM25's keyword-based approach is more precise\n",
        "- Embeddings might return broader, more general documents about payment problems\n",
        "\n",
        "### 5. **Domain-Specific Vocabulary**\n",
        "- Financial/loan terminology often has precise meanings\n",
        "- BM25 treats each term independently, while embeddings might conflate related but distinct concepts\n",
        "- For example, \"late payment fees\" vs \"processing fees\" vs \"origination fees\" are different concepts\n",
        "\n",
        "## Real-world scenario:\n",
        "If a user is specifically looking for Nelnet's late payment fee structure, BM25 would likely return documents that explicitly mention \"Nelnet\" and \"late payment fees\", while embeddings might return documents about general payment issues with any servicer.\n",
        "\n",
        "This demonstrates BM25's strength in **precision** for specific, keyword-heavy queries versus embeddings' strength in **semantic understanding** for conceptual queries."
      ]
    },
    {
      "cell_type": "markdown",
      "metadata": {
        "id": "Q-dcbFn2vpZF"
      },
      "source": [
        "## Task 6: Contextual Compression (Using Reranking)\n",
        "\n",
        "Contextual Compression is a fairly straightforward idea: We want to \"compress\" our retrieved context into just the most useful bits.\n",
        "\n",
        "There are a few ways we can achieve this - but we're going to look at a specific example called reranking.\n",
        "\n",
        "The basic idea here is this:\n",
        "\n",
        "- We retrieve lots of documents that are very likely related to our query vector\n",
        "- We \"compress\" those documents into a smaller set of *more* related documents using a reranking algorithm.\n",
        "\n",
        "We'll be leveraging Cohere's Rerank model for our reranker today!\n",
        "\n",
        "All we need to do is the following:\n",
        "\n",
        "- Create a basic retriever\n",
        "- Create a compressor (reranker, in this case)\n",
        "\n",
        "That's it!\n",
        "\n",
        "Let's see it in the code below!"
      ]
    },
    {
      "cell_type": "code",
      "execution_count": 18,
      "metadata": {
        "id": "psHvO2K1v_ZQ"
      },
      "outputs": [],
      "source": [
        "from langchain.retrievers.contextual_compression import ContextualCompressionRetriever\n",
        "from langchain_cohere import CohereRerank\n",
        "\n",
        "compressor = CohereRerank(model=\"rerank-v3.5\")\n",
        "compression_retriever = ContextualCompressionRetriever(\n",
        "    base_compressor=compressor, base_retriever=naive_retriever\n",
        ")"
      ]
    },
    {
      "cell_type": "markdown",
      "metadata": {
        "id": "_TA9RB2x-j7P"
      },
      "source": [
        "Let's create our chain again, and see how this does!"
      ]
    },
    {
      "cell_type": "code",
      "execution_count": 19,
      "metadata": {
        "id": "1BXqmxvHwX6T"
      },
      "outputs": [],
      "source": [
        "contextual_compression_retrieval_chain = (\n",
        "    {\"context\": itemgetter(\"question\") | compression_retriever, \"question\": itemgetter(\"question\")}\n",
        "    | RunnablePassthrough.assign(context=itemgetter(\"context\"))\n",
        "    | {\"response\": rag_prompt | chat_model, \"context\": itemgetter(\"context\")}\n",
        ")"
      ]
    },
    {
      "cell_type": "code",
      "execution_count": 20,
      "metadata": {
        "colab": {
          "base_uri": "https://localhost:8080/",
          "height": 36
        },
        "id": "V3iGpokswcBb",
        "outputId": "f15d2aa1-5e8b-417d-f623-eb835d072e59"
      },
      "outputs": [
        {
          "data": {
            "text/plain": [
              "'Based on the provided context, a common issue with loans, particularly student loans, appears to be problems related to improper handling and misinformation by loan servicers. Specific issues include errors in loan balances, misapplied payments, wrongful denials of payment plans, inadequate communication, and mishandling of personal information, which can lead to disputes and credit reporting inaccuracies. \\n\\nIn general, a most common issue with loans is **mismanagement or miscommunication by servicers, leading to errors in balances, payments, and account handling.**'"
            ]
          },
          "execution_count": 20,
          "metadata": {},
          "output_type": "execute_result"
        }
      ],
      "source": [
        "contextual_compression_retrieval_chain.invoke({\"question\" : \"What is the most common issue with loans?\"})[\"response\"].content"
      ]
    },
    {
      "cell_type": "code",
      "execution_count": 21,
      "metadata": {
        "colab": {
          "base_uri": "https://localhost:8080/",
          "height": 53
        },
        "id": "7u_k0i4OweUd",
        "outputId": "be5fccc8-2352-4189-c524-bbeaa28cf799"
      },
      "outputs": [
        {
          "data": {
            "text/plain": [
              "'Based on the provided context, at least one complaint explicitly mentions that it was not handled in a timely manner. For example, the complaint with Complaint ID 12975634 describes a situation where the individual has been awaiting a response and resolution for over a year, with nearly 18 months having passed without resolution. Additionally, the complaint with Complaint ID 12973003 was responded to promptly, indicating a \"Yes\" for timely response, but the ongoing issues suggest that not all complaints are resolved promptly. \\n\\nOverall, the data indicates that some complaints did not get handled in a timely manner, notably the complaint about the account review and FERPA violations which remained unresolved for over a year.'"
            ]
          },
          "execution_count": 21,
          "metadata": {},
          "output_type": "execute_result"
        }
      ],
      "source": [
        "contextual_compression_retrieval_chain.invoke({\"question\" : \"Did any complaints not get handled in a timely manner?\"})[\"response\"].content"
      ]
    },
    {
      "cell_type": "code",
      "execution_count": 22,
      "metadata": {
        "colab": {
          "base_uri": "https://localhost:8080/",
          "height": 70
        },
        "id": "zn1EqaGqweXN",
        "outputId": "42bc5972-4164-46eb-f49d-4272f39bb89b"
      },
      "outputs": [
        {
          "data": {
            "text/plain": [
              "'People failed to pay back their loans primarily due to a combination of factors such as lack of awareness about the obligation to repay, poor communication from lenders or servicers, and the accumulation of interest that made repayment more difficult over time. Specifically, some borrowers were not informed about the need to repay their loans or how interest would grow, especially when loans were transferred or handled without their knowledge. Others faced challenges because the only options offered—like forbearance or deferment—allowed interest to continue accruing, which increased the total amount owed and extended the repayment period. Additionally, financial hardships, stagnant wages, and the misconception that they would qualify for forgiveness programs contributed to difficulties in repaying their loans.'"
            ]
          },
          "execution_count": 22,
          "metadata": {},
          "output_type": "execute_result"
        }
      ],
      "source": [
        "contextual_compression_retrieval_chain.invoke({\"question\" : \"Why did people fail to pay back their loans?\"})[\"response\"].content"
      ]
    },
    {
      "cell_type": "markdown",
      "metadata": {
        "id": "OEbT0g2S-mZ4"
      },
      "source": [
        "We'll need to rely on something like Ragas to help us get a better sense of how this is performing overall - but it \"feels\" better!"
      ]
    },
    {
      "cell_type": "markdown",
      "metadata": {
        "id": "qqbghrBEQNn5"
      },
      "source": [
        "## Task 7: Multi-Query Retriever\n",
        "\n",
        "Typically in RAG we have a single query - the one provided by the user.\n",
        "\n",
        "What if we had....more than one query!\n",
        "\n",
        "In essence, a Multi-Query Retriever works by:\n",
        "\n",
        "1. Taking the original user query and creating `n` number of new user queries using an LLM.\n",
        "2. Retrieving documents for each query.\n",
        "3. Using all unique retrieved documents as context\n",
        "\n",
        "So, how is it to set-up? Not bad! Let's see it down below!\n",
        "\n"
      ]
    },
    {
      "cell_type": "code",
      "execution_count": 23,
      "metadata": {
        "id": "pfM26ReXQjzU"
      },
      "outputs": [],
      "source": [
        "from langchain.retrievers.multi_query import MultiQueryRetriever\n",
        "\n",
        "multi_query_retriever = MultiQueryRetriever.from_llm(\n",
        "    retriever=naive_retriever, llm=chat_model\n",
        ")"
      ]
    },
    {
      "cell_type": "code",
      "execution_count": 24,
      "metadata": {
        "id": "1vRc129jQ5WW"
      },
      "outputs": [],
      "source": [
        "multi_query_retrieval_chain = (\n",
        "    {\"context\": itemgetter(\"question\") | multi_query_retriever, \"question\": itemgetter(\"question\")}\n",
        "    | RunnablePassthrough.assign(context=itemgetter(\"context\"))\n",
        "    | {\"response\": rag_prompt | chat_model, \"context\": itemgetter(\"context\")}\n",
        ")"
      ]
    },
    {
      "cell_type": "code",
      "execution_count": 25,
      "metadata": {
        "colab": {
          "base_uri": "https://localhost:8080/",
          "height": 53
        },
        "id": "CGgNuOb3Q3M9",
        "outputId": "c5273ecf-da35-40b8-fbdb-0f8beab425f7"
      },
      "outputs": [
        {
          "data": {
            "text/plain": [
              "'The most common issue with loans, based on the provided complaints, appears to be inaccuracies and errors in loan information and account management. Specific problems include incorrect loan balances, misapplied payments, wrongful delinquencies or defaults, errors in reported account statuses, and misinformation about interest accrual and repayment history. Additionally, many complaints concern poor communication, lack of transparency, and mishandling of sensitive borrower data.'"
            ]
          },
          "execution_count": 25,
          "metadata": {},
          "output_type": "execute_result"
        }
      ],
      "source": [
        "multi_query_retrieval_chain.invoke({\"question\" : \"What is the most common issue with loans?\"})[\"response\"].content"
      ]
    },
    {
      "cell_type": "code",
      "execution_count": 26,
      "metadata": {
        "colab": {
          "base_uri": "https://localhost:8080/",
          "height": 36
        },
        "id": "aAlSthxrRDBC",
        "outputId": "230ff807-23ae-4d25-8d11-cfdbed0b77cb"
      },
      "outputs": [
        {
          "data": {
            "text/plain": [
              "'Based on the provided complaints data, yes, there are complaints indicating that some complaints were not handled in a timely manner. Specifically, several complaints explicitly state that responses or resolutions were delayed beyond the expected time frames.\\n\\nFor example:\\n- Complaint with ID **12668396** (received 03/26/25) from MOHELA states the response was **\"No\"** for timeliness, indicating they did not respond in time.\\n- Complaint with ID **13062402** (received 04/18/25) from Nelnet mentions a **\"Timely response?\": \"Yes\"**, but the complaint from 03/25/25 (ID 12654977) from MOHELA indicates **\"No\"**, highlighting a delayed response.\\n- Several complaints note delays of months or over a year before resolution or response, showing systemic issues with timely handling.\\n\\nGiven this evidence, the answer is:\\n\\n**Yes, some complaints did not get handled in a timely manner.**'"
            ]
          },
          "execution_count": 26,
          "metadata": {},
          "output_type": "execute_result"
        }
      ],
      "source": [
        "multi_query_retrieval_chain.invoke({\"question\" : \"Did any complaints not get handled in a timely manner?\"})[\"response\"].content"
      ]
    },
    {
      "cell_type": "code",
      "execution_count": 27,
      "metadata": {
        "colab": {
          "base_uri": "https://localhost:8080/",
          "height": 88
        },
        "id": "Uv1mpCK8REs4",
        "outputId": "00fbc22a-ed9b-4613-9695-0b179e3f8369"
      },
      "outputs": [
        {
          "data": {
            "text/plain": [
              "'People often failed to pay back their loans due to a combination of systemic issues, mismanagement by lenders and servicers, lack of proper communication, and deceptive practices. The provided context highlights several key reasons:\\n\\n1. **Misleading or Bad Information from Loan Servicers:** Consumers reported receiving incorrect data about their loan balances, payment status, or repayment requirements, which led to confusion and missed payments.\\n\\n2. **Predatory and Deceptive Lending Practices:** Some loans were obtained under circumstances where borrowers were not fully informed of their obligations, or loans were mismanaged, leading to higher balances over time due to accumulated interest and fees.\\n\\n3. **Servicer misconduct and systemic failures:** There are multiple reports of servicers failing to follow regulatory guidelines, such as neglecting proper notification protocols, misapplying payments, or reporting false delinquency statuses to credit bureaus, which can cause borrowers to default unintentionally.\\n\\n4. **Inadequate Communication and Transparency:** Borrowers often were not adequately informed of their repayment options, such as income-driven repayment plans or rehabilitation programs, or were misled into forbearances that allowed interest to capitalize or accrued unnecessarily.\\n\\n5. **Financial Hardship and Lack of Options:** Borrowers faced financial hardships, and due to lack of accessible or properly communicated alternatives, they defaulted after long periods of hardship compounded by interest accumulation and mismanagement.\\n\\nIn summary, failures to pay back loans often stem from systemic mismanagement, miscommunication, and deceptive practices by loan servicers, combined with borrower hardships and a lack of transparent, accessible repayment options.'"
            ]
          },
          "execution_count": 27,
          "metadata": {},
          "output_type": "execute_result"
        }
      ],
      "source": [
        "multi_query_retrieval_chain.invoke({\"question\" : \"Why did people fail to pay back their loans?\"})[\"response\"].content"
      ]
    },
    {
      "cell_type": "markdown",
      "metadata": {},
      "source": [
        "#### ❓ Question #2:\n",
        "\n",
        "Explain how generating multiple reformulations of a user query can improve recall.\n",
        "\n",
        "##### ✅ Answer:\n",
        "\n",
        "Here's how generating multiple reformulations of a user query can improve recall:\n",
        "\n",
        "## How Multiple Query Reformulations Improve Recall:\n",
        "\n",
        "### 1. **Addressing Vocabulary Mismatch**\n",
        "- **Problem**: Users and documents may use different terms for the same concept\n",
        "- **Solution**: Multiple reformulations can include synonyms, related terms, and alternative phrasings\n",
        "- **Example**: \n",
        "  - Original: \"loan payment problems\"\n",
        "  - Reformulations: \"payment difficulties\", \"repayment issues\", \"trouble with payments\", \"payment challenges\"\n",
        "\n",
        "### 2. **Capturing Different Query Intentions**\n",
        "- **Problem**: A single query might not capture all possible interpretations\n",
        "- **Solution**: Different reformulations can explore various aspects of the query\n",
        "- **Example**:\n",
        "  - Original: \"student loan issues\"\n",
        "  - Reformulations: \n",
        "    - \"problems with student loans\"\n",
        "    - \"student loan complaints\"\n",
        "    - \"difficulties with education financing\"\n",
        "    - \"issues with federal student aid\"\n",
        "\n",
        "### 3. **Handling Query Ambiguity**\n",
        "- **Problem**: Queries can be ambiguous or underspecified\n",
        "- **Solution**: Multiple reformulations can disambiguate and explore different meanings\n",
        "- **Example**:\n",
        "  - Original: \"loan problems\"\n",
        "  - Reformulations:\n",
        "    - \"problems with loan payments\"\n",
        "    - \"problems with loan servicers\"\n",
        "    - \"problems with loan applications\"\n",
        "    - \"problems with loan forgiveness\"\n",
        "\n",
        "### 4. **Expanding Semantic Coverage**\n",
        "- **Problem**: Documents might be relevant but use different semantic expressions\n",
        "- **Solution**: Reformulations can cover broader semantic space\n",
        "- **Example**:\n",
        "  - Original: \"late payment fees\"\n",
        "  - Reformulations:\n",
        "    - \"penalties for missed payments\"\n",
        "    - \"charges for overdue amounts\"\n",
        "    - \"fees for delayed payments\"\n",
        "    - \"consequences of not paying on time\"\n",
        "\n",
        "### 5. **Overcoming Embedding Limitations**\n",
        "- **Problem**: Embeddings might miss relevant documents due to semantic drift\n",
        "- **Solution**: Multiple queries increase the chance of finding relevant documents\n",
        "- **Mechanism**: Each reformulation creates a different vector, potentially retrieving different document sets\n",
        "\n",
        "## Technical Process:\n",
        "\n",
        "1. **Query Generation**: LLM creates multiple reformulations of the original query\n",
        "2. **Parallel Retrieval**: Each reformulation is used to retrieve documents independently\n",
        "3. **Deduplication**: Remove duplicate documents across all retrieval results\n",
        "4. **Ranking**: Combine and rank all unique documents using fusion algorithms (like Reciprocal Rank Fusion)\n",
        "\n",
        "## Benefits:\n",
        "\n",
        "- **Higher Recall**: More relevant documents are found across different query formulations\n",
        "- **Better Coverage**: Documents that might be missed by a single query are captured\n",
        "- **Robustness**: Less dependent on the specific wording of the original query\n",
        "- **Comprehensive Results**: Provides a more complete picture of available relevant information\n",
        "\n",
        "This approach essentially \"casts a wider net\" by exploring the query space from multiple angles, significantly improving the chances of finding all relevant documents."
      ]
    },
    {
      "cell_type": "markdown",
      "metadata": {
        "id": "EDEawBf_d_3G"
      },
      "source": [
        "## Task 8: Parent Document Retriever\n",
        "\n",
        "A \"small-to-big\" strategy - the Parent Document Retriever works based on a simple strategy:\n",
        "\n",
        "1. Each un-split \"document\" will be designated as a \"parent document\" (You could use larger chunks of document as well, but our data format allows us to consider the overall document as the parent chunk)\n",
        "2. Store those \"parent documents\" in a memory store (not a VectorStore)\n",
        "3. We will chunk each of those documents into smaller documents, and associate them with their respective parents, and store those in a VectorStore. We'll call those \"child chunks\".\n",
        "4. When we query our Retriever, we will do a similarity search comparing our query vector to the \"child chunks\".\n",
        "5. Instead of returning the \"child chunks\", we'll return their associated \"parent chunks\".\n",
        "\n",
        "Okay, maybe that was a few steps - but the basic idea is this:\n",
        "\n",
        "- Search for small documents\n",
        "- Return big documents\n",
        "\n",
        "The intuition is that we're likely to find the most relevant information by limiting the amount of semantic information that is encoded in each embedding vector - but we're likely to miss relevant surrounding context if we only use that information.\n",
        "\n",
        "Let's start by creating our \"parent documents\" and defining a `RecursiveCharacterTextSplitter`."
      ]
    },
    {
      "cell_type": "code",
      "execution_count": 28,
      "metadata": {
        "id": "qJ53JJuMd_ZH"
      },
      "outputs": [],
      "source": [
        "from langchain.retrievers import ParentDocumentRetriever\n",
        "from langchain.storage import InMemoryStore\n",
        "from langchain_text_splitters import RecursiveCharacterTextSplitter\n",
        "from qdrant_client import QdrantClient, models\n",
        "\n",
        "parent_docs = loan_complaint_data\n",
        "child_splitter = RecursiveCharacterTextSplitter(chunk_size=750)"
      ]
    },
    {
      "cell_type": "markdown",
      "metadata": {
        "id": "oOpXfVUH3gL3"
      },
      "source": [
        "We'll need to set up a new QDrant vectorstore - and we'll use another useful pattern to do so!\n",
        "\n",
        "> NOTE: We are manually defining our embedding dimension, you'll need to change this if you're using a different embedding model."
      ]
    },
    {
      "cell_type": "code",
      "execution_count": 30,
      "metadata": {
        "colab": {
          "base_uri": "https://localhost:8080/"
        },
        "id": "rzFc-_9HlGQ-",
        "outputId": "223662dd-c36f-42f7-d1b0-b086e571484e"
      },
      "outputs": [],
      "source": [
        "from langchain_qdrant import QdrantVectorStore\n",
        "\n",
        "client = QdrantClient(location=\":memory:\")\n",
        "\n",
        "client.create_collection(\n",
        "    collection_name=\"full_documents\",\n",
        "    vectors_config=models.VectorParams(size=1536, distance=models.Distance.COSINE)\n",
        ")\n",
        "\n",
        "parent_document_vectorstore = QdrantVectorStore(\n",
        "    collection_name=\"full_documents\", embedding=OpenAIEmbeddings(model=\"text-embedding-3-small\"), client=client\n",
        ")"
      ]
    },
    {
      "cell_type": "markdown",
      "metadata": {
        "id": "sf_g95FA3s6w"
      },
      "source": [
        "Now we can create our `InMemoryStore` that will hold our \"parent documents\" - and build our retriever!"
      ]
    },
    {
      "cell_type": "code",
      "execution_count": 31,
      "metadata": {
        "id": "BpWVjPf4fLUp"
      },
      "outputs": [],
      "source": [
        "store = InMemoryStore()\n",
        "\n",
        "parent_document_retriever = ParentDocumentRetriever(\n",
        "    vectorstore = parent_document_vectorstore,\n",
        "    docstore=store,\n",
        "    child_splitter=child_splitter,\n",
        ")"
      ]
    },
    {
      "cell_type": "markdown",
      "metadata": {
        "id": "KoYmSWfE32Zo"
      },
      "source": [
        "By default, this is empty as we haven't added any documents - let's add some now!"
      ]
    },
    {
      "cell_type": "code",
      "execution_count": 32,
      "metadata": {
        "id": "iQ2ZzfKigMZc"
      },
      "outputs": [],
      "source": [
        "parent_document_retriever.add_documents(parent_docs, ids=None)"
      ]
    },
    {
      "cell_type": "markdown",
      "metadata": {
        "id": "bI7Tip1335rE"
      },
      "source": [
        "We'll create the same chain we did before - but substitute our new `parent_document_retriever`."
      ]
    },
    {
      "cell_type": "code",
      "execution_count": 33,
      "metadata": {
        "id": "Qq_adt2KlSqp"
      },
      "outputs": [],
      "source": [
        "parent_document_retrieval_chain = (\n",
        "    {\"context\": itemgetter(\"question\") | parent_document_retriever, \"question\": itemgetter(\"question\")}\n",
        "    | RunnablePassthrough.assign(context=itemgetter(\"context\"))\n",
        "    | {\"response\": rag_prompt | chat_model, \"context\": itemgetter(\"context\")}\n",
        ")"
      ]
    },
    {
      "cell_type": "markdown",
      "metadata": {
        "id": "jNolUVQb4Apt"
      },
      "source": [
        "Let's give it a whirl!"
      ]
    },
    {
      "cell_type": "code",
      "execution_count": 34,
      "metadata": {
        "colab": {
          "base_uri": "https://localhost:8080/",
          "height": 70
        },
        "id": "TXB5i89Zly5W",
        "outputId": "94c240be-7c5b-4c58-9eee-56d93285a054"
      },
      "outputs": [
        {
          "data": {
            "text/plain": [
              "'The most common issue with loans, based on the context provided, appears to be related to errors and misconduct in loan servicing and reporting. Specifically, these issues include incorrect information on credit reports, misapplied payments, wrongful denials of payment plans, discrepancies in loan balances and interest rates, and problems arising from loan transfers and sale of loans, which can lead to confusion and unfair practices. Additionally, there are concerns about illegal credit reporting and failure to verify the legitimacy of debts, especially in the context of changes in loan management and government agency dissolution.\\n\\nIf you are asking about the most common problem in general, based on this context, it would be issues related to mismanagement, inaccuracies in reporting, and servicing misconduct.'"
            ]
          },
          "execution_count": 34,
          "metadata": {},
          "output_type": "execute_result"
        }
      ],
      "source": [
        "parent_document_retrieval_chain.invoke({\"question\" : \"What is the most common issue with loans?\"})[\"response\"].content"
      ]
    },
    {
      "cell_type": "code",
      "execution_count": 35,
      "metadata": {
        "colab": {
          "base_uri": "https://localhost:8080/",
          "height": 36
        },
        "id": "V5F1T-wNl3cg",
        "outputId": "9b81e72e-5db7-4b8a-b25b-400ea0df5335"
      },
      "outputs": [
        {
          "data": {
            "text/plain": [
              "'Based on the provided complaints, it appears that at least some complaints were not handled in a timely manner. Specifically, the complaint with ID 12709087 from MOHELA dated 03/28/25 and the complaint ID 12935889 from MOHELA dated 04/11/25 both indicate \"No\" under the \"Timely response?\" field, suggesting these issues were not addressed promptly. Additionally, multiple complaints mention excessive wait times and lack of communication, reinforcing that some complaints did not receive timely attention.'"
            ]
          },
          "execution_count": 35,
          "metadata": {},
          "output_type": "execute_result"
        }
      ],
      "source": [
        "parent_document_retrieval_chain.invoke({\"question\" : \"Did any complaints not get handled in a timely manner?\"})[\"response\"].content"
      ]
    },
    {
      "cell_type": "code",
      "execution_count": 36,
      "metadata": {
        "colab": {
          "base_uri": "https://localhost:8080/",
          "height": 70
        },
        "id": "ZqARszGzvGcG",
        "outputId": "8867f83c-db13-4db4-d57f-9bd51d32cd8a"
      },
      "outputs": [
        {
          "data": {
            "text/plain": [
              "'People failed to pay back their loans primarily due to financial hardship, lack of proper information, and issues with loan management. For example, some borrowers experienced severe financial difficulties after graduation, making it difficult to make timely payments. Others faced challenges related to misrepresentation by educational institutions about the value of their degrees and the financial obligations involved, which led to long-term financial consequences and unaffordable debt burdens. Additionally, there were issues with loan servicing, such as being unable to get clear communication or proper notice about payment requirements, loan buyouts, or account management problems. These combined factors contributed to their inability to repay their loans successfully.'"
            ]
          },
          "execution_count": 36,
          "metadata": {},
          "output_type": "execute_result"
        }
      ],
      "source": [
        "parent_document_retrieval_chain.invoke({\"question\" : \"Why did people fail to pay back their loans?\"})[\"response\"].content"
      ]
    },
    {
      "cell_type": "markdown",
      "metadata": {
        "id": "B41cj42s4DPM"
      },
      "source": [
        "Overall, the performance *seems* largely the same. We can leverage a tool like [Ragas]() to more effectively answer the question about the performance."
      ]
    },
    {
      "cell_type": "markdown",
      "metadata": {
        "id": "VUrIBKl_TwS9"
      },
      "source": [
        "## Task 9: Ensemble Retriever\n",
        "\n",
        "In brief, an Ensemble Retriever simply takes 2, or more, retrievers and combines their retrieved documents based on a rank-fusion algorithm.\n",
        "\n",
        "In this case - we're using the [Reciprocal Rank Fusion](https://plg.uwaterloo.ca/~gvcormac/cormacksigir09-rrf.pdf) algorithm.\n",
        "\n",
        "Setting it up is as easy as providing a list of our desired retrievers - and the weights for each retriever."
      ]
    },
    {
      "cell_type": "code",
      "execution_count": 37,
      "metadata": {
        "id": "8j7jpZsKTxic"
      },
      "outputs": [],
      "source": [
        "from langchain.retrievers import EnsembleRetriever\n",
        "\n",
        "retriever_list = [bm25_retriever, naive_retriever, parent_document_retriever, compression_retriever, multi_query_retriever]\n",
        "equal_weighting = [1/len(retriever_list)] * len(retriever_list)\n",
        "\n",
        "ensemble_retriever = EnsembleRetriever(\n",
        "    retrievers=retriever_list, weights=equal_weighting\n",
        ")"
      ]
    },
    {
      "cell_type": "markdown",
      "metadata": {
        "id": "kpo9Psl5hhJ-"
      },
      "source": [
        "We'll pack *all* of these retrievers together in an ensemble."
      ]
    },
    {
      "cell_type": "code",
      "execution_count": 38,
      "metadata": {
        "id": "KZ__EZwpUKkd"
      },
      "outputs": [],
      "source": [
        "ensemble_retrieval_chain = (\n",
        "    {\"context\": itemgetter(\"question\") | ensemble_retriever, \"question\": itemgetter(\"question\")}\n",
        "    | RunnablePassthrough.assign(context=itemgetter(\"context\"))\n",
        "    | {\"response\": rag_prompt | chat_model, \"context\": itemgetter(\"context\")}\n",
        ")"
      ]
    },
    {
      "cell_type": "markdown",
      "metadata": {
        "id": "SSsvHpRMj24L"
      },
      "source": [
        "Let's look at our results!"
      ]
    },
    {
      "cell_type": "code",
      "execution_count": 39,
      "metadata": {
        "colab": {
          "base_uri": "https://localhost:8080/",
          "height": 70
        },
        "id": "0lMvqL88UQI-",
        "outputId": "d86dd5f7-0a13-4836-c0ce-cc4c431fd889"
      },
      "outputs": [
        {
          "data": {
            "text/plain": [
              "'Based on the provided complaints data, a most common issue with loans appears to be related to \"Dealing with your lender or servicer,\" specifically problems such as:\\n\\n- Receiving bad information about the loan (e.g., incorrect balances, interest rates, or terms)\\n- Trouble with how payments are handled, such as being unable to apply payments toward principal or payoff more quickly\\n- Disputes over loan transfer or reassignment without proper notification or consent\\n- Lack of documentation or verification of loan validity, including missing signed promissory notes\\n- Problems with loan consolidation processes, including inadequate disclosure, unexpected payment amounts, or inadequate communication\\n- Errors leading to negative impacts like credit score drops, inaccurate reporting, or delinquency status\\n\\nThe majority of complaints focus on poor communication, errors, or improper handling by loan servicers and agencies, which often result in borrower confusion, financial hardship, or legal disputes.\\n\\nIn summary, the most common issue with loans, as reflected in these complaints, is **mismanagement or mishandling by loan servicers and lenders**, particularly involving inaccurate information, lack of transparency, improper transfer of debt, and inadequate customer communication.'"
            ]
          },
          "execution_count": 39,
          "metadata": {},
          "output_type": "execute_result"
        }
      ],
      "source": [
        "ensemble_retrieval_chain.invoke({\"question\" : \"What is the most common issue with loans?\"})[\"response\"].content"
      ]
    },
    {
      "cell_type": "code",
      "execution_count": 40,
      "metadata": {
        "colab": {
          "base_uri": "https://localhost:8080/",
          "height": 53
        },
        "id": "MNFWLYECURI1",
        "outputId": "b17973b5-66a9-4481-97d5-880b5754b5c5"
      },
      "outputs": [
        {
          "data": {
            "text/plain": [
              "'Based on the provided complaints, it appears that some complaints were handled in a timely manner with responses marked as \"Yes,\" but there are several complaints indicating delays or failures to handle issues promptly. Specifically:\\n\\n- Complaint ID 12709087 (EdFinancial Services) was marked as \"Timely response? Yes.\"\\n- Complaint ID 13056764 (EdFinancial Services) was marked as \"Timely response? Yes.\"\\n- Complaint ID 12935889 (MOHELA) was marked as \"Timely response? No,\" indicating it was not handled in a timely manner.\\n- Complaint ID 13283043 (EdFinancial Services) was marked as \"Timely response? Yes.\"\\n- Complaint ID 12739706 (MOHELA) was marked as \"Timely response? No.\"\\n- Several other complaints, such as 125... and 13365901, show responses as \"Yes,\" but some have very long waiting times or unresolved issues.\\n\\nIn summary, while some complaints were addressed promptly, others, notably complaints about account access, overdue notices, or improper reporting, indicate delays or unresolved issues suggesting they were not handled in a timely manner.\\n\\nTherefore, the answer is:\\n\\nYes, some complaints did not get handled in a timely manner.'"
            ]
          },
          "execution_count": 40,
          "metadata": {},
          "output_type": "execute_result"
        }
      ],
      "source": [
        "ensemble_retrieval_chain.invoke({\"question\" : \"Did any complaints not get handled in a timely manner?\"})[\"response\"].content"
      ]
    },
    {
      "cell_type": "code",
      "execution_count": 41,
      "metadata": {
        "colab": {
          "base_uri": "https://localhost:8080/",
          "height": 88
        },
        "id": "A7qbHfWgUR4c",
        "outputId": "f7373144-59ef-4fc7-b75d-ca00e7df881e"
      },
      "outputs": [
        {
          "data": {
            "text/plain": [
              "'People failed to pay back their loans primarily due to a combination of factors, including:\\n\\n1. **Accumulating interest due to forbearance and deferment options**: Many borrowers were offered limited options like forbearance or deferment, which allowed interest to continue accruing, making the total debt grow faster than they could pay it off.\\n\\n2. **Lack of clear communication and transparency**: Borrowers often were not properly informed about their repayment obligations, interest calculations, or changes in loan transfer statuses. Some were unaware when their loans were transferred between servicers or when payments were expected to resume.\\n\\n3. **Financial hardships and unmet income-based solutions**: Borrowers faced financial difficulties, including unemployment, medical issues, or low income, and were not always offered or able to access income-driven repayment plans or loan forgiveness programs, prolonging their debt and making repayment unrealistic.\\n\\n4. **Unfavorable loan management practices**: Issues like improper reporting of delinquencies, mismanagement of accounts, or inappropriate collection practices—such as wrongfully reported late payments or delays in notification—also prevented borrowers from maintaining or resuming payments.\\n\\n5. **Steering into unmanageable forbearances and consolidations**: Some borrowers were coerced into long-term forbearances or consolidation without being informed of better options like income-driven repayment plans, leading to increased balances due to interest capitalizing and loss of forgiveness benefits.\\n\\n6. **Technical issues and administrative errors**: In several cases, borrowers experienced trouble with online portals, misapplied payments, or inaccurate account information, which hindered their ability to make or track payments.\\n\\nOverall, the failure to pay back loans was often not solely due to irresponsibility but was exacerbated by systemic issues, miscommunication, and hardships that made maintaining regular payments difficult or impossible for many borrowers.'"
            ]
          },
          "execution_count": 41,
          "metadata": {},
          "output_type": "execute_result"
        }
      ],
      "source": [
        "ensemble_retrieval_chain.invoke({\"question\" : \"Why did people fail to pay back their loans?\"})[\"response\"].content"
      ]
    },
    {
      "cell_type": "markdown",
      "metadata": {
        "id": "MopbkNJAXVaN"
      },
      "source": [
        "## Task 10: Semantic Chunking\n",
        "\n",
        "While this is not a retrieval method - it *is* an effective way of increasing retrieval performance on corpora that have clean semantic breaks in them.\n",
        "\n",
        "Essentially, Semantic Chunking is implemented by:\n",
        "\n",
        "1. Embedding all sentences in the corpus.\n",
        "2. Combining or splitting sequences of sentences based on their semantic similarity based on a number of [possible thresholding methods](https://python.langchain.com/docs/how_to/semantic-chunker/):\n",
        "  - `percentile`\n",
        "  - `standard_deviation`\n",
        "  - `interquartile`\n",
        "  - `gradient`\n",
        "3. Each sequence of related sentences is kept as a document!\n",
        "\n",
        "Let's see how to implement this!"
      ]
    },
    {
      "cell_type": "markdown",
      "metadata": {
        "id": "U9ciZbFEldv_"
      },
      "source": [
        "We'll use the `percentile` thresholding method for this example which will:\n",
        "\n",
        "Calculate all distances between sentences, and then break apart sequences of setences that exceed a given percentile among all distances."
      ]
    },
    {
      "cell_type": "code",
      "execution_count": 42,
      "metadata": {
        "id": "66EIEWiEYl5y"
      },
      "outputs": [],
      "source": [
        "from langchain_experimental.text_splitter import SemanticChunker\n",
        "\n",
        "semantic_chunker = SemanticChunker(\n",
        "    embeddings,\n",
        "    breakpoint_threshold_type=\"percentile\"\n",
        ")"
      ]
    },
    {
      "cell_type": "markdown",
      "metadata": {
        "id": "YqoKmz12mhRW"
      },
      "source": [
        "Now we can split our documents."
      ]
    },
    {
      "cell_type": "code",
      "execution_count": 43,
      "metadata": {
        "id": "ROcV7o68ZIq7"
      },
      "outputs": [],
      "source": [
        "semantic_documents = semantic_chunker.split_documents(loan_complaint_data[:20])"
      ]
    },
    {
      "cell_type": "markdown",
      "metadata": {
        "id": "L8-LNC-Xmjex"
      },
      "source": [
        "Let's create a new vector store."
      ]
    },
    {
      "cell_type": "code",
      "execution_count": 44,
      "metadata": {
        "id": "h3sl9QjyZhIe"
      },
      "outputs": [],
      "source": [
        "semantic_vectorstore = Qdrant.from_documents(\n",
        "    semantic_documents,\n",
        "    embeddings,\n",
        "    location=\":memory:\",\n",
        "    collection_name=\"Loan_Complaint_Data_Semantic_Chunks\"\n",
        ")"
      ]
    },
    {
      "cell_type": "markdown",
      "metadata": {
        "id": "Eh_r_-LHmmKn"
      },
      "source": [
        "We'll use naive retrieval for this example."
      ]
    },
    {
      "cell_type": "code",
      "execution_count": 45,
      "metadata": {
        "id": "odVyDUHwZftc"
      },
      "outputs": [],
      "source": [
        "semantic_retriever = semantic_vectorstore.as_retriever(search_kwargs={\"k\" : 10})"
      ]
    },
    {
      "cell_type": "markdown",
      "metadata": {
        "id": "Mkeiv_ojmp6G"
      },
      "source": [
        "Finally we can create our classic chain!"
      ]
    },
    {
      "cell_type": "code",
      "execution_count": 46,
      "metadata": {
        "id": "xWE_0J0mZveG"
      },
      "outputs": [],
      "source": [
        "semantic_retrieval_chain = (\n",
        "    {\"context\": itemgetter(\"question\") | semantic_retriever, \"question\": itemgetter(\"question\")}\n",
        "    | RunnablePassthrough.assign(context=itemgetter(\"context\"))\n",
        "    | {\"response\": rag_prompt | chat_model, \"context\": itemgetter(\"context\")}\n",
        ")"
      ]
    },
    {
      "cell_type": "markdown",
      "metadata": {
        "id": "R5pfjLQ3ms9_"
      },
      "source": [
        "And view the results!"
      ]
    },
    {
      "cell_type": "code",
      "execution_count": 47,
      "metadata": {
        "colab": {
          "base_uri": "https://localhost:8080/",
          "height": 70
        },
        "id": "0lN2j-e4Z0SD",
        "outputId": "ef483e21-7200-4dfc-b8bf-aed4f23587b2"
      },
      "outputs": [
        {
          "data": {
            "text/plain": [
              "'Based on the provided complaints, the most common issue with loans appears to be problems related to poor communication, inaccurate or delayed information, and mishandling of repayment plans. Specific recurring issues include:\\n\\n- Struggling to repay or problematic payment plans\\n- Errors or discrepancies in loan reporting and account status\\n- Difficulties with auto-debit setup and payments not processing\\n- Lack of transparency, delays, or confusion regarding loan account details and servicer changes\\n- Unauthorized or illegal reporting and breach of privacy\\n\\nWhile these issues vary, a common theme is that many borrowers face frustrations due to mismanagement, poor communication, and errors in servicing or reporting.'"
            ]
          },
          "execution_count": 47,
          "metadata": {},
          "output_type": "execute_result"
        }
      ],
      "source": [
        "semantic_retrieval_chain.invoke({\"question\" : \"What is the most common issue with loans?\"})[\"response\"].content"
      ]
    },
    {
      "cell_type": "code",
      "execution_count": 48,
      "metadata": {
        "colab": {
          "base_uri": "https://localhost:8080/",
          "height": 53
        },
        "id": "xdqfBH1SZ3f9",
        "outputId": "ed62b2d1-7586-46cc-aaf4-c54192a56155"
      },
      "outputs": [
        {
          "data": {
            "text/plain": [
              "'Yes, according to the provided complaints, several complaints were handled in a timely manner, with responses marked as \"Yes\" for timeliness. However, there is at least one complaint (Complaint ID: 13331376) where the complaint was closed with an explanation, indicating that the issue was addressed or at least responded to by the company. \\n\\nBased on this data, it appears that complaints generally did not go unhandled in a timely manner, as responses were received within the expected timeframes. But without explicit information on all complaints that may not have been handled timely, I cannot definitively say that no complaints were left unhandled or significantly delayed. \\n\\nTherefore, the answer is:  \\n**From the provided information, all complaints that included response data seem to have been handled in a timely manner.**  \\nIf you need a definitive answer across all complaints, I must clarify that the data suggests timely handling for the complaints mentioned.'"
            ]
          },
          "execution_count": 48,
          "metadata": {},
          "output_type": "execute_result"
        }
      ],
      "source": [
        "semantic_retrieval_chain.invoke({\"question\" : \"Did any complaints not get handled in a timely manner?\"})[\"response\"].content"
      ]
    },
    {
      "cell_type": "code",
      "execution_count": 49,
      "metadata": {
        "colab": {
          "base_uri": "https://localhost:8080/",
          "height": 70
        },
        "id": "rAcAObZnZ4o6",
        "outputId": "3f1cade3-41e4-4e42-ef71-048dd18e5e3a"
      },
      "outputs": [
        {
          "data": {
            "text/plain": [
              "'People failed to pay back their loans for various reasons, including issues with loan management and communication, technical problems, and disputes over the legitimacy or status of their loans. For example, some borrowers experienced difficulties due to lack of clarity about their repayment status, such as being incorrectly placed in default or delinquency despite never being in default. Others faced problems with loan servicing, such as missing payments, re-amortization issues after forbearance, or inaccurate reporting that negatively impacted their credit scores. Additionally, some borrowers encountered obstacles related to documentation and verification processes, which stalled their efforts to qualify for loan forgiveness or discharge. In some cases, disputes arose over the legality or legitimacy of the loans themselves, especially following administrative changes or breaches of privacy laws. Overall, these issues often stem from poor communication, errors in loan processing, or legal and administrative complications that hinder borrowers from fulfilling their repayment obligations smoothly.'"
            ]
          },
          "execution_count": 49,
          "metadata": {},
          "output_type": "execute_result"
        }
      ],
      "source": [
        "semantic_retrieval_chain.invoke({\"question\" : \"Why did people fail to pay back their loans?\"})[\"response\"].content"
      ]
    },
    {
      "cell_type": "markdown",
      "metadata": {},
      "source": [
        "#### ❓ Question #3:\n",
        "\n",
        "If sentences are short and highly repetitive (e.g., FAQs), how might semantic chunking behave, and how would you adjust the algorithm?\n",
        "\n",
        "##### ✅ Answer:\n",
        "\n",
        "Here's how semantic chunking would behave with short, highly repetitive sentences (like FAQs) and how to adjust the algorithm:\n",
        "\n",
        "### 1. **Over-chunking Problem**\n",
        "- **Issue**: Short, repetitive sentences will have very similar embeddings\n",
        "- **Result**: The algorithm might create too many tiny chunks or fail to find meaningful breakpoints\n",
        "- **Example**: FAQ sentences like \"What is X?\" \"How do I Y?\" \"Where can I find Z?\" would all have similar semantic vectors\n",
        "\n",
        "### 2. **Poor Semantic Differentiation**\n",
        "- **Issue**: Repetitive content lacks semantic diversity\n",
        "- **Result**: The similarity thresholding methods (percentile, standard deviation, etc.) won't find clear breakpoints\n",
        "- **Problem**: All sentences appear equally similar, so no natural chunking boundaries are detected\n",
        "\n",
        "### 3. **Ineffective Thresholding**\n",
        "- **Issue**: Methods like percentile or standard deviation assume semantic variation\n",
        "- **Result**: With repetitive content, these methods may create arbitrary or inconsistent chunks\n",
        "- **Example**: If all sentence similarities are 0.85-0.90, percentile-based chunking becomes unreliable\n",
        "\n",
        "## How to Adjust the Algorithm:\n",
        "\n",
        "### 1. **Use Structural Chunking Instead**\n",
        "```python\n",
        "# Instead of semantic chunking, use rule-based chunking\n",
        "from langchain_text_splitters import RecursiveCharacterTextSplitter\n",
        "\n",
        "structural_chunker = RecursiveCharacterTextSplitter(\n",
        "    chunk_size=1000,\n",
        "    chunk_overlap=200,\n",
        "    separators=[\"\\n\\n\", \"\\n\", \". \", \" \", \"\"]\n",
        ")\n",
        "```\n",
        "\n",
        "### 2. **Adjust Threshold Parameters**\n",
        "```python\n",
        "# Use more aggressive thresholding for repetitive content\n",
        "semantic_chunker = SemanticChunker(\n",
        "    embeddings,\n",
        "    breakpoint_threshold_type=\"percentile\",\n",
        "    percentile_threshold=95  # Higher threshold for more aggressive chunking\n",
        ")\n",
        "```\n",
        "\n",
        "### 3. **Pre-filter Repetitive Content**\n",
        "```python\n",
        "# Remove or consolidate repetitive sentences before chunking\n",
        "def deduplicate_sentences(documents):\n",
        "    seen_content = set()\n",
        "    filtered_docs = []\n",
        "    for doc in documents:\n",
        "        if doc.page_content not in seen_content:\n",
        "            seen_content.add(doc.page_content)\n",
        "            filtered_docs.append(doc)\n",
        "    return filtered_docs\n",
        "```\n",
        "\n",
        "### 4. **Use Hybrid Approach**\n",
        "```python\n",
        "# Combine semantic and structural chunking\n",
        "def hybrid_chunking(documents):\n",
        "    # First, use structural chunking for repetitive sections\n",
        "    structural_chunks = structural_chunker.split_documents(documents)\n",
        "    \n",
        "    # Then, apply semantic chunking only to non-repetitive sections\n",
        "    semantic_chunks = []\n",
        "    for chunk in structural_chunks:\n",
        "        if has_semantic_variation(chunk):\n",
        "            semantic_chunks.extend(semantic_chunker.split_documents([chunk]))\n",
        "        else:\n",
        "            semantic_chunks.append(chunk)\n",
        "    \n",
        "    return semantic_chunks\n",
        "```\n",
        "\n",
        "### 5. **Adjust Embedding Strategy**\n",
        "```python\n",
        "# Use domain-specific embeddings or fine-tuned models\n",
        "from sentence_transformers import SentenceTransformer\n",
        "\n",
        "# Use a model fine-tuned for your specific domain\n",
        "domain_embeddings = SentenceTransformer('domain-specific-model')\n",
        "```\n",
        "\n",
        "### 6. **Implement Content-Aware Chunking**\n",
        "```python\n",
        "def content_aware_chunking(documents):\n",
        "    chunks = []\n",
        "    for doc in documents:\n",
        "        # Check if content is repetitive\n",
        "        if is_repetitive_content(doc.page_content):\n",
        "            # Use larger chunks for repetitive content\n",
        "            chunks.extend(structural_chunker.split_documents([doc]))\n",
        "        else:\n",
        "            # Use semantic chunking for varied content\n",
        "            chunks.extend(semantic_chunker.split_documents([doc]))\n",
        "    return chunks\n",
        "```\n",
        "\n",
        "## Best Practices for Repetitive Content:\n",
        "\n",
        "1. **Analyze content first**: Determine if semantic chunking is appropriate\n",
        "2. **Use structural chunking**: For FAQs and repetitive content, rule-based chunking is often better\n",
        "3. **Combine approaches**: Use semantic chunking only where it adds value\n",
        "4. **Adjust thresholds**: Use higher thresholds for repetitive content\n",
        "5. **Consider domain-specific solutions**: FAQ content might benefit from question-answer pair chunking\n",
        "\n",
        "## Alternative for FAQs:\n",
        "```python\n",
        "# For FAQ content, chunk by Q&A pairs instead\n",
        "def faq_chunking(documents):\n",
        "    chunks = []\n",
        "    for doc in documents:\n",
        "        # Split by question-answer patterns\n",
        "        qa_pairs = extract_qa_pairs(doc.page_content)\n",
        "        for qa in qa_pairs:\n",
        "            chunks.append(Document(page_content=qa, metadata=doc.metadata))\n",
        "    return chunks\n",
        "```\n",
        "\n",
        "The key insight is that semantic chunking works best with semantically diverse content. For repetitive content like FAQs, traditional structural chunking or domain-specific approaches are often more effective."
      ]
    },
    {
      "cell_type": "markdown",
      "metadata": {
        "id": "xk2n3-pnVWDJ"
      },
      "source": [
        "# 🤝 Breakout Room Part #2"
      ]
    },
    {
      "cell_type": "markdown",
      "metadata": {
        "id": "2SkJLYwMVZkj"
      },
      "source": [
        "#### 🏗️ Activity #1\n",
        "\n",
        "Your task is to evaluate the various Retriever methods against eachother.\n",
        "\n",
        "You are expected to:\n",
        "\n",
        "1. Create a \"golden dataset\"\n",
        " - Use Synthetic Data Generation (powered by Ragas, or otherwise) to create this dataset\n",
        "2. Evaluate each retriever with *retriever specific* Ragas metrics\n",
        " - Semantic Chunking is not considered a retriever method and will not be required for marks, but you may find it useful to do a \"semantic chunking on\" vs. \"semantic chunking off\" comparision between them\n",
        "3. Compile these in a list and write a small paragraph about which is best for this particular data and why.\n",
        "\n",
        "Your analysis should factor in:\n",
        "  - Cost\n",
        "  - Latency\n",
        "  - Performance\n",
        "\n",
        "> NOTE: This is **NOT** required to be completed in class. Please spend time in your breakout rooms creating a plan before moving on to writing code."
      ]
    },
    {
      "cell_type": "markdown",
      "metadata": {
        "id": "TWAr16a5XMub"
      },
      "source": [
        "##### HINTS:\n",
        "\n",
        "- LangSmith provides detailed information about latency and cost."
      ]
    },
    {
      "cell_type": "code",
      "execution_count": null,
      "metadata": {
        "id": "tgDICngKXLGK"
      },
      "outputs": [],
      "source": [
        "### YOUR CODE HERE"
      ]
    }
  ],
  "metadata": {
    "colab": {
      "provenance": [],
      "toc_visible": true
    },
    "kernelspec": {
      "display_name": ".venv",
      "language": "python",
      "name": "python3"
    },
    "language_info": {
      "codemirror_mode": {
        "name": "ipython",
        "version": 3
      },
      "file_extension": ".py",
      "mimetype": "text/x-python",
      "name": "python",
      "nbconvert_exporter": "python",
      "pygments_lexer": "ipython3",
      "version": "3.13.4"
    }
  },
  "nbformat": 4,
  "nbformat_minor": 0
}
